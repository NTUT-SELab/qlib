{
 "metadata": {
  "language_info": {
   "codemirror_mode": {
    "name": "ipython",
    "version": 3
   },
   "file_extension": ".py",
   "mimetype": "text/x-python",
   "name": "python",
   "nbconvert_exporter": "python",
   "pygments_lexer": "ipython3",
   "version": "3.8.7-final"
  },
  "orig_nbformat": 2,
  "kernelspec": {
   "name": "python3",
   "display_name": "Python 3.8.7 64-bit",
   "metadata": {
    "interpreter": {
     "hash": "5b3ded1ccb95c1d9bd405e7b823d9e85424cde40fbb5985eb47e999ef50e15b4"
    }
   }
  }
 },
 "nbformat": 4,
 "nbformat_minor": 2,
 "cells": [
  {
   "cell_type": "code",
   "execution_count": 1,
   "metadata": {},
   "outputs": [
    {
     "output_type": "stream",
     "name": "stderr",
     "text": [
      "[67736:MainThread](2021-01-27 22:55:06,642) INFO - qlib.Initialization - [__init__.py:42] - default_conf: client.\n",
      "[67736:MainThread](2021-01-27 22:55:06,646) WARNING - qlib.Initialization - [__init__.py:58] - redis connection failed(host=127.0.0.1 port=6379), cache will not be used!\n",
      "[67736:MainThread](2021-01-27 22:55:06,647) INFO - qlib.Initialization - [__init__.py:78] - qlib successfully initialized based on client settings.\n",
      "[67736:MainThread](2021-01-27 22:55:06,649) INFO - qlib.Initialization - [__init__.py:81] - data_path=/home/kenneth/.qlib/qlib_data/my_data\n"
     ]
    }
   ],
   "source": [
    "# 初始化執行環境\n",
    "import qlib\n",
    "qlib.init(provider_uri='~/.qlib/qlib_data/my_data/')"
   ]
  },
  {
   "cell_type": "code",
   "execution_count": 2,
   "metadata": {},
   "outputs": [
    {
     "output_type": "stream",
     "name": "stdout",
     "text": [
      "[Timestamp('2020-01-01 00:00:00') Timestamp('2020-01-01 00:30:00')\n Timestamp('2020-01-01 01:00:00') Timestamp('2020-01-01 01:30:00')\n Timestamp('2020-01-01 02:00:00')]\n"
     ]
    }
   ],
   "source": [
    "# 輸出交易日期\n",
    "from qlib.data import D\n",
    "trade_data = D.calendar(start_time='2020-01-01', end_time='2020-11-30', freq='30m')\n",
    "print(trade_data[:5])"
   ]
  },
  {
   "cell_type": "code",
   "execution_count": 3,
   "metadata": {},
   "outputs": [
    {
     "output_type": "stream",
     "name": "stdout",
     "text": [
      "['ADABTC-SPOT', 'ADAUSDT-FUTURESUSDT', 'ADAUSDT-SPOT', 'BCHBTC-SPOT', 'BCHUSDT-FUTURESUSDT', 'BCHUSDT-SPOT', 'BTCUSDT-FUTURESUSDT', 'BTCUSDT-SPOT', 'ETHBTC-SPOT', 'ETHUSDT-FUTURESUSDT', 'ETHUSDT-SPOT', 'LINKBTC-SPOT', 'LINKUSDT-FUTURESUSDT', 'LINKUSDT-SPOT', 'LTCBTC-SPOT', 'LTCUSDT-FUTURESUSDT', 'LTCUSDT-SPOT', 'XRPBTC-SPOT', 'XRPUSDT-FUTURESUSDT', 'XRPUSDT-SPOT']\n"
     ]
    }
   ],
   "source": [
    "# 輸出指定日期的股票代號\n",
    "instruments = D.instruments(market='all')\n",
    "stock_list = D.list_instruments(instruments=instruments, start_time='2020-07-01', end_time='2020-11-30',  freq='30m', as_list=True)\n",
    "\n",
    "print(stock_list)"
   ]
  },
  {
   "cell_type": "code",
   "execution_count": 4,
   "metadata": {},
   "outputs": [
    {
     "output_type": "stream",
     "name": "stdout",
     "text": [
      "                                   $close    $volume\ninstrument  datetime                                \nADABTC-SPOT 2020-07-01 00:00:00  1.007778  1103562.0\n            2020-07-01 00:30:00  1.010000   591896.0\n            2020-07-01 01:00:00  1.011111   957849.0\n            2020-07-01 01:30:00  1.016667   514438.0\n            2020-07-01 02:00:00  1.013333  1311418.0\n"
     ]
    }
   ],
   "source": [
    "# 取得 特定股票 特定日期 特定欄位的資料\n",
    "features_df = D.features(instruments=['ADABTC-SPOT'], fields=['$close', '$volume'], start_time='2020-07-01', end_time='2020-11-30',  freq='30m')\n",
    "print(features_df.head())"
   ]
  }
 ]
}