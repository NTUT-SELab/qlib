{
 "cells": [
  {
   "cell_type": "markdown",
   "metadata": {},
   "source": [
    "<a href=\"https://colab.research.google.com/github/microsoft/qlib/blob/main/examples/workflow_by_code.ipynb\" target=\"_parent\"><img src=\"https://colab.research.google.com/assets/colab-badge.svg\" alt=\"Open In Colab\"/></a>"
   ]
  },
  {
   "cell_type": "code",
   "execution_count": null,
   "metadata": {},
   "outputs": [],
   "source": [
    "#  Copyright (c) Microsoft Corporation.\n",
    "#  Licensed under the MIT License."
   ]
  },
  {
   "cell_type": "code",
   "execution_count": null,
   "metadata": {
    "scrolled": true
   },
   "outputs": [],
   "source": [
    "import sys, site\n",
    "from pathlib import Path\n",
    "\n",
    "\n",
    "try:\n",
    "    import qlib\n",
    "except ImportError:\n",
    "    # install qlib\n",
    "    ! pip install pyqlib\n",
    "    # reload\n",
    "    site.main()\n",
    "\n",
    "scripts_dir = Path.cwd().parent.joinpath(\"scripts\")\n",
    "if not scripts_dir.joinpath(\"get_data.py\").exists():\n",
    "    # download get_data.py script\n",
    "    scripts_dir = Path(\"~/tmp/qlib_code/scripts\").expanduser().resolve()\n",
    "    scripts_dir.mkdir(parents=True, exist_ok=True)\n",
    "    import requests\n",
    "    with requests.get(\"https://raw.githubusercontent.com/microsoft/qlib/main/scripts/get_data.py\") as resp:\n",
    "        with open(scripts_dir.joinpath(\"get_data.py\"), \"wb\") as fp:\n",
    "            fp.write(resp.content)"
   ]
  },
  {
   "cell_type": "code",
   "execution_count": 1,
   "metadata": {},
   "outputs": [],
   "source": [
    "\n",
    "import qlib\n",
    "import pandas as pd\n",
    "from qlib.config import REG_CN\n",
    "from qlib.contrib.model.gbdt import LGBModel\n",
    "from qlib.contrib.data.handler import Alpha158\n",
    "from qlib.contrib.strategy.strategy import TopkDropoutStrategy\n",
    "from qlib.contrib.evaluate import (\n",
    "    backtest as normal_backtest,\n",
    "    risk_analysis,\n",
    ")\n",
    "from qlib.utils import exists_qlib_data, init_instance_by_config\n",
    "from qlib.workflow import R\n",
    "from qlib.workflow.record_temp import SignalRecord, PortAnaRecord\n",
    "from qlib.utils import flatten_dict\n"
   ]
  },
  {
   "cell_type": "code",
   "execution_count": 2,
   "metadata": {
    "tags": []
   },
   "outputs": [
    {
     "name": "stderr",
     "output_type": "stream",
     "text": [
      "[56783:MainThread](2021-03-12 16:57:09,094) INFO - qlib.Initialization - [config.py:276] - default_conf: client.\n",
      "[56783:MainThread](2021-03-12 16:57:09,099) WARNING - qlib.Initialization - [config.py:291] - redis connection failed(host=127.0.0.1 port=6379), cache will not be used!\n",
      "[56783:MainThread](2021-03-12 16:57:09,101) INFO - qlib.Initialization - [__init__.py:46] - qlib successfully initialized based on client settings.\n",
      "[56783:MainThread](2021-03-12 16:57:09,102) INFO - qlib.Initialization - [__init__.py:47] - data_path=/home/kenneth/.qlib/qlib_data/my_data\n"
     ]
    }
   ],
   "source": [
    "# use default data\n",
    "# NOTE: need to download data from remote: python scripts/get_data.py qlib_data_cn --target_dir ~/.qlib/qlib_data/cn_data\n",
    "#provider_uri = \"~/.qlib/qlib_data/cn_data\"  # target_dir\n",
    "provider_uri = \"~/.qlib/qlib_data/my_data/\"\n",
    "if not exists_qlib_data(provider_uri):\n",
    "    print(f\"Qlib data is not found in {provider_uri}\")\n",
    "    sys.path.append(str(scripts_dir))\n",
    "    from get_data import GetData\n",
    "    GetData().qlib_data(target_dir=provider_uri, region=REG_CN)\n",
    "qlib.init(provider_uri=provider_uri, region=REG_CN)"
   ]
  },
  {
   "cell_type": "code",
   "execution_count": 3,
   "metadata": {},
   "outputs": [],
   "source": [
    "market = \"all\"\n",
    "benchmark = \"BTCUSDT-Spot\""
   ]
  },
  {
   "cell_type": "markdown",
   "metadata": {},
   "source": [
    "# train model"
   ]
  },
  {
   "cell_type": "code",
   "execution_count": 4,
   "metadata": {
    "tags": []
   },
   "outputs": [
    {
     "name": "stderr",
     "output_type": "stream",
     "text": [
      "[56783:MainThread](2021-03-12 16:58:56,646) INFO - qlib.timer - [log.py:77] - Time cost: 107.014s | Loading data Done\n",
      "[56783:MainThread](2021-03-12 16:59:02,439) INFO - qlib.timer - [log.py:77] - Time cost: 4.919s | DropnaLabel Done\n",
      "[56783:MainThread](2021-03-12 17:03:55,651) INFO - qlib.timer - [log.py:77] - Time cost: 293.208s | CSZScoreNorm Done\n",
      "[56783:MainThread](2021-03-12 17:03:55,656) INFO - qlib.timer - [log.py:77] - Time cost: 299.005s | fit & process data Done\n",
      "[56783:MainThread](2021-03-12 17:03:55,658) INFO - qlib.timer - [log.py:77] - Time cost: 406.026s | Init data Done\n",
      "[56783:MainThread](2021-03-12 17:03:55,661) INFO - qlib.workflow - [expm.py:248] - No tracking URI is provided. Use the default tracking URI.\n",
      "[56783:MainThread](2021-03-12 17:03:55,664) INFO - qlib.workflow - [expm.py:284] - <mlflow.tracking.client.MlflowClient object at 0x7f89efe0bfd0>\n",
      "[56783:MainThread](2021-03-12 17:03:55,669) INFO - qlib.workflow - [exp.py:182] - Experiment 1 starts running ...\n",
      "[56783:MainThread](2021-03-12 17:03:55,830) INFO - qlib.workflow - [recorder.py:270] - Recorder 0835980b5850453b97cc7fc74a929c6b starts running under Experiment 1 ...\n"
     ]
    },
    {
     "name": "stdout",
     "output_type": "stream",
     "text": [
      "Training until validation scores don't improve for 50 rounds\n",
      "[20]\ttrain's l2: 0.968527\tvalid's l2: 0.98483\n",
      "[40]\ttrain's l2: 0.966916\tvalid's l2: 0.984551\n",
      "[60]\ttrain's l2: 0.965782\tvalid's l2: 0.984482\n",
      "[80]\ttrain's l2: 0.964763\tvalid's l2: 0.984447\n",
      "[100]\ttrain's l2: 0.963888\tvalid's l2: 0.98442\n",
      "[120]\ttrain's l2: 0.963068\tvalid's l2: 0.984405\n",
      "[140]\ttrain's l2: 0.962195\tvalid's l2: 0.984433\n",
      "[160]\ttrain's l2: 0.961414\tvalid's l2: 0.984438\n",
      "Early stopping, best iteration is:\n",
      "[121]\ttrain's l2: 0.963028\tvalid's l2: 0.984403\n"
     ]
    }
   ],
   "source": [
    "###################################\n",
    "# train model\n",
    "###################################\n",
    "data_handler_config = {\n",
    "    'start_time': '2017-07-15',\n",
    "    'end_time': '2021-01-15',\n",
    "    'fit_start_time': '2017-07-15',\n",
    "    'fit_end_time': '2020-06-30',\n",
    "    'instruments': market,\n",
    "    'freq': '30m'\n",
    "}\n",
    "\n",
    "task = {\n",
    "    \"model\": {\n",
    "        \"class\": \"LGBModel\",\n",
    "        \"module_path\": \"qlib.contrib.model.gbdt\",\n",
    "        \"kwargs\": {\n",
    "            \"loss\": \"mse\",\n",
    "            \"colsample_bytree\": 0.8879,\n",
    "            \"learning_rate\": 0.0421,\n",
    "            \"subsample\": 0.8789,\n",
    "            \"lambda_l1\": 205.6999,\n",
    "            \"lambda_l2\": 580.9768,\n",
    "            \"max_depth\": 8,\n",
    "            \"num_leaves\": 210,\n",
    "            \"num_threads\": 20,\n",
    "        },\n",
    "    },\n",
    "    \"dataset\": {\n",
    "        \"class\": \"DatasetH\",\n",
    "        \"module_path\": \"qlib.data.dataset\",\n",
    "        \"kwargs\": {\n",
    "            \"handler\": {\n",
    "                \"class\": \"Alpha158\",\n",
    "                \"module_path\": \"qlib.contrib.data.handler\",\n",
    "                \"kwargs\": data_handler_config,\n",
    "            },\n",
    "            \"segments\": {\n",
    "                'train': ('2017-07-15', '2020-01-01'),\n",
    "                'valid': ('2020-01-02', '2020-06-30'),\n",
    "                'test': ('2020-07-07', '2021-01-15'),\n",
    "            },\n",
    "        },\n",
    "    },\n",
    "}\n",
    "\n",
    "# model initiaiton\n",
    "model = init_instance_by_config(task[\"model\"])\n",
    "dataset = init_instance_by_config(task[\"dataset\"])\n",
    "\n",
    "# start exp to train model\n",
    "with R.start(experiment_name=\"train_model\"):\n",
    "    R.log_params(**flatten_dict(task))\n",
    "    model.fit(dataset)\n",
    "    R.save_objects(trained_model=model)\n",
    "    rid = R.get_recorder().id\n"
   ]
  },
  {
   "cell_type": "markdown",
   "metadata": {},
   "source": [
    "# prediction, backtest & analysis"
   ]
  },
  {
   "cell_type": "code",
   "execution_count": null,
   "metadata": {
    "tags": []
   },
   "outputs": [
    {
     "name": "stderr",
     "output_type": "stream",
     "text": [
      "[56783:MainThread](2021-03-12 17:06:02,040) INFO - qlib.workflow - [expm.py:248] - No tracking URI is provided. Use the default tracking URI.\n",
      "[56783:MainThread](2021-03-12 17:06:02,043) INFO - qlib.workflow - [expm.py:284] - <mlflow.tracking.client.MlflowClient object at 0x7f89cbfc1c70>\n",
      "[56783:MainThread](2021-03-12 17:06:02,048) INFO - qlib.workflow - [exp.py:182] - Experiment 2 starts running ...\n",
      "[56783:MainThread](2021-03-12 17:06:02,065) INFO - qlib.workflow - [recorder.py:270] - Recorder 868f6822e80541e3b5ac575c0aba8c94 starts running under Experiment 2 ...\n",
      "[56783:MainThread](2021-03-12 17:06:13,757) INFO - qlib.workflow - [record_temp.py:125] - Signal record 'pred.pkl' has been saved as the artifact of the Experiment 2\n"
     ]
    },
    {
     "name": "stdout",
     "output_type": "stream",
     "text": [
      "'The following are prediction results of the LGBModel model.'\n",
      "                                   score\n",
      "datetime   instrument                   \n",
      "2020-07-07 ADABTC-SPOT         -0.000390\n",
      "           ADAETH-SPOT          0.063423\n",
      "           ADAUSDT-FUTURESUSDT -0.005572\n",
      "           ADAUSDT-SPOT        -0.002352\n",
      "           AIONETH-SPOT         0.061694\n"
     ]
    },
    {
     "name": "stderr",
     "output_type": "stream",
     "text": [
      "[56783:MainThread](2021-03-12 17:06:14,197) INFO - qlib.backtest caller - [__init__.py:149] - Create new exchange\n",
      "[56783:MainThread](2021-03-12 17:06:31,130) INFO - qlib.backtest caller - [__init__.py:204] - Create new executor \n",
      "[56783:MainThread](2021-03-13 00:49:57,484) INFO - qlib.workflow - [record_temp.py:264] - Portfolio analysis record 'port_analysis.pkl' has been saved as the artifact of the Experiment 2\n"
     ]
    }
   ],
   "source": [
    "###################################\n",
    "# prediction, backtest & analysis\n",
    "###################################\n",
    "port_analysis_config = {\n",
    "    \"strategy\": {\n",
    "        \"class\": \"TopkDropoutStrategy\",\n",
    "        \"module_path\": \"qlib.contrib.strategy.strategy\",\n",
    "        \"kwargs\": {\n",
    "            \"topk\": 50,\n",
    "            \"n_drop\": 5,\n",
    "        },\n",
    "    },\n",
    "    \"backtest\": {\n",
    "        \"verbose\": False,\n",
    "        \"limit_threshold\": 0.095,\n",
    "        \"account\": 100000000,\n",
    "        \"benchmark\": benchmark,\n",
    "        \"deal_price\": \"close\",\n",
    "        \"open_cost\": 0.0005,\n",
    "        \"close_cost\": 0.0015,\n",
    "        \"min_cost\": 5,\n",
    "        'freq': '30m'\n",
    "    },\n",
    "}\n",
    "\n",
    "\n",
    "# backtest and analysis\n",
    "with R.start(experiment_name=\"backtest_analysis\"):\n",
    "    recorder = R.get_recorder(rid, experiment_name=\"train_model\")\n",
    "    model = recorder.load_object(\"trained_model\")\n",
    "\n",
    "    # prediction\n",
    "    recorder = R.get_recorder()\n",
    "    ba_rid = recorder.id\n",
    "    sr = SignalRecord(model, dataset, recorder)\n",
    "    sr.generate()\n",
    "\n",
    "    # backtest & analysis\n",
    "    par = PortAnaRecord(recorder, port_analysis_config)\n",
    "    par.generate()\n"
   ]
  },
  {
   "cell_type": "markdown",
   "metadata": {},
   "source": [
    "# analyze graphs"
   ]
  },
  {
   "cell_type": "code",
   "execution_count": null,
   "metadata": {
    "scrolled": false
   },
   "outputs": [],
   "source": [
    "from qlib.contrib.report import analysis_model, analysis_position\n",
    "from qlib.data import D\n",
    "recorder = R.get_recorder(ba_rid, experiment_name=\"backtest_analysis\")\n",
    "pred_df = recorder.load_object(\"pred.pkl\")\n",
    "pred_df_dates = pred_df.index.get_level_values(level='datetime')\n",
    "report_normal_df = recorder.load_object(\"portfolio_analysis/report_normal.pkl\")\n",
    "positions = recorder.load_object(\"portfolio_analysis/positions_normal.pkl\")\n",
    "analysis_df = recorder.load_object(\"portfolio_analysis/port_analysis.pkl\")"
   ]
  },
  {
   "cell_type": "markdown",
   "metadata": {},
   "source": [
    "## analysis position"
   ]
  },
  {
   "cell_type": "markdown",
   "metadata": {},
   "source": [
    "### report"
   ]
  },
  {
   "cell_type": "code",
   "execution_count": null,
   "metadata": {},
   "outputs": [],
   "source": [
    "analysis_position.report_graph(report_normal_df)"
   ]
  },
  {
   "cell_type": "markdown",
   "metadata": {},
   "source": [
    "### risk analysis"
   ]
  },
  {
   "cell_type": "code",
   "execution_count": null,
   "metadata": {},
   "outputs": [],
   "source": [
    "analysis_position.risk_analysis_graph(analysis_df, report_normal_df)"
   ]
  },
  {
   "cell_type": "markdown",
   "metadata": {},
   "source": [
    "## analysis model"
   ]
  },
  {
   "cell_type": "code",
   "execution_count": null,
   "metadata": {},
   "outputs": [],
   "source": [
    "label_df = dataset.prepare(\"test\", col_set=\"label\")\n",
    "label_df.columns = ['label']"
   ]
  },
  {
   "cell_type": "markdown",
   "metadata": {},
   "source": [
    "### score IC"
   ]
  },
  {
   "cell_type": "code",
   "execution_count": null,
   "metadata": {},
   "outputs": [],
   "source": [
    "pred_label = pd.concat([label_df, pred_df], axis=1, sort=True).reindex(label_df.index)\n",
    "analysis_position.score_ic_graph(pred_label)"
   ]
  },
  {
   "cell_type": "markdown",
   "metadata": {},
   "source": [
    "### model performance"
   ]
  },
  {
   "cell_type": "code",
   "execution_count": null,
   "metadata": {},
   "outputs": [],
   "source": [
    "analysis_model.model_performance_graph(pred_label)"
   ]
  }
 ],
 "metadata": {
  "kernelspec": {
   "display_name": "Python 3",
   "language": "python",
   "name": "python3"
  },
  "language_info": {
   "codemirror_mode": {
    "name": "ipython",
    "version": 3
   },
   "file_extension": ".py",
   "mimetype": "text/x-python",
   "name": "python",
   "nbconvert_exporter": "python",
   "pygments_lexer": "ipython3",
   "version": "3.8.8"
  },
  "toc": {
   "base_numbering": 1,
   "nav_menu": {},
   "number_sections": true,
   "sideBar": true,
   "skip_h1_title": false,
   "title_cell": "Table of Contents",
   "title_sidebar": "Contents",
   "toc_cell": false,
   "toc_position": {},
   "toc_section_display": true,
   "toc_window_display": false
  }
 },
 "nbformat": 4,
 "nbformat_minor": 4
}
