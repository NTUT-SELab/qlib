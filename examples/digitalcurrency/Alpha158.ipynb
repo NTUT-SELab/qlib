{
 "metadata": {
  "language_info": {
   "codemirror_mode": {
    "name": "ipython",
    "version": 3
   },
   "file_extension": ".py",
   "mimetype": "text/x-python",
   "name": "python",
   "nbconvert_exporter": "python",
   "pygments_lexer": "ipython3",
   "version": "3.8.7-final"
  },
  "orig_nbformat": 2,
  "kernelspec": {
   "name": "python3",
   "display_name": "Python 3",
   "language": "python"
  }
 },
 "nbformat": 4,
 "nbformat_minor": 2,
 "cells": [
  {
   "cell_type": "code",
   "execution_count": 1,
   "metadata": {},
   "outputs": [
    {
     "output_type": "stream",
     "name": "stderr",
     "text": [
      "[34752:MainThread](2021-01-30 19:25:56,727) INFO - qlib.Initialization - [config.py:277] - default_conf: client.\n",
      "[34752:MainThread](2021-01-30 19:25:56,731) WARNING - qlib.Initialization - [config.py:292] - redis connection failed(host=127.0.0.1 port=6379), cache will not be used!\n",
      "[34752:MainThread](2021-01-30 19:25:57,423) INFO - qlib.Initialization - [__init__.py:46] - qlib successfully initialized based on client settings.\n",
      "[34752:MainThread](2021-01-30 19:25:57,424) INFO - qlib.Initialization - [__init__.py:47] - data_path=/home/kenneth/.qlib/qlib_data/my_data\n"
     ]
    }
   ],
   "source": [
    "# 初始化執行環境\n",
    "import qlib\n",
    "from qlib.contrib.data.handler import Alpha158\n",
    "from qlib.data import D\n",
    "\n",
    "qlib.init(provider_uri='~/.qlib/qlib_data/my_data/')\n",
    "instruments = D.instruments(market='all')\n"
   ]
  },
  {
   "cell_type": "code",
   "execution_count": 2,
   "metadata": {},
   "outputs": [
    {
     "output_type": "stream",
     "name": "stderr",
     "text": [
      "[34752:MainThread](2021-01-30 19:26:23,654) INFO - qlib.timer - [log.py:81] - Time cost: 23.995s | Loading data Done\n",
      "[34752:MainThread](2021-01-30 19:26:24,849) INFO - qlib.timer - [log.py:81] - Time cost: 0.905s | DropnaLabel Done\n",
      "[34752:MainThread](2021-01-30 19:29:04,686) INFO - qlib.timer - [log.py:81] - Time cost: 159.834s | CSZScoreNorm Done\n",
      "[34752:MainThread](2021-01-30 19:29:04,689) INFO - qlib.timer - [log.py:81] - Time cost: 161.032s | fit & process data Done\n",
      "[34752:MainThread](2021-01-30 19:29:04,691) INFO - qlib.timer - [log.py:81] - Time cost: 185.033s | Init data Done\n",
      "['KMID', 'KLEN', 'KMID2', 'KUP', 'KUP2', 'KLOW', 'KLOW2', 'KSFT', 'KSFT2', 'OPEN0', 'HIGH0', 'LOW0', 'VWAP0', 'ROC5', 'ROC10', 'ROC20', 'ROC30', 'ROC60', 'MA5', 'MA10', 'MA20', 'MA30', 'MA60', 'STD5', 'STD10', 'STD20', 'STD30', 'STD60', 'BETA5', 'BETA10', 'BETA20', 'BETA30', 'BETA60', 'RSQR5', 'RSQR10', 'RSQR20', 'RSQR30', 'RSQR60', 'RESI5', 'RESI10', 'RESI20', 'RESI30', 'RESI60', 'MAX5', 'MAX10', 'MAX20', 'MAX30', 'MAX60', 'MIN5', 'MIN10', 'MIN20', 'MIN30', 'MIN60', 'QTLU5', 'QTLU10', 'QTLU20', 'QTLU30', 'QTLU60', 'QTLD5', 'QTLD10', 'QTLD20', 'QTLD30', 'QTLD60', 'RANK5', 'RANK10', 'RANK20', 'RANK30', 'RANK60', 'RSV5', 'RSV10', 'RSV20', 'RSV30', 'RSV60', 'IMAX5', 'IMAX10', 'IMAX20', 'IMAX30', 'IMAX60', 'IMIN5', 'IMIN10', 'IMIN20', 'IMIN30', 'IMIN60', 'IMXD5', 'IMXD10', 'IMXD20', 'IMXD30', 'IMXD60', 'CORR5', 'CORR10', 'CORR20', 'CORR30', 'CORR60', 'CORD5', 'CORD10', 'CORD20', 'CORD30', 'CORD60', 'CNTP5', 'CNTP10', 'CNTP20', 'CNTP30', 'CNTP60', 'CNTN5', 'CNTN10', 'CNTN20', 'CNTN30', 'CNTN60', 'CNTD5', 'CNTD10', 'CNTD20', 'CNTD30', 'CNTD60', 'SUMP5', 'SUMP10', 'SUMP20', 'SUMP30', 'SUMP60', 'SUMN5', 'SUMN10', 'SUMN20', 'SUMN30', 'SUMN60', 'SUMD5', 'SUMD10', 'SUMD20', 'SUMD30', 'SUMD60', 'VMA5', 'VMA10', 'VMA20', 'VMA30', 'VMA60', 'VSTD5', 'VSTD10', 'VSTD20', 'VSTD30', 'VSTD60', 'WVMA5', 'WVMA10', 'WVMA20', 'WVMA30', 'WVMA60', 'VSUMP5', 'VSUMP10', 'VSUMP20', 'VSUMP30', 'VSUMP60', 'VSUMN5', 'VSUMN10', 'VSUMN20', 'VSUMN30', 'VSUMN60', 'VSUMD5', 'VSUMD10', 'VSUMD20', 'VSUMD30', 'VSUMD60', 'LABEL0']\n"
     ]
    }
   ],
   "source": [
    "\n",
    "data_handler_config = {\n",
    "    'start_time': '2019-01-01',\n",
    "    'end_time': '2021-01-15',\n",
    "    'fit_start_time': '2019-01-01',\n",
    "    'fit_end_time': '2020-06-30',\n",
    "    'instruments': instruments,\n",
    "    'freq': '30m'\n",
    "}\n",
    "\n",
    "h = Alpha158(**data_handler_config)\n",
    "\n",
    "print(h.get_cols())"
   ]
  },
  {
   "cell_type": "code",
   "execution_count": 5,
   "metadata": {},
   "outputs": [
    {
     "output_type": "stream",
     "name": "stdout",
     "text": [
      "                                  LABEL0\ndatetime   instrument                   \n2019-01-01 ADABTC-SPOT         -0.005494\n           ADAUSDT-SPOT        -0.004213\n           BTCUSDT-SPOT        -0.000287\n           ETHBTC-SPOT         -0.001936\n           ETHUSDT-SPOT        -0.002352\n...                                  ...\n2021-01-15 LTCUSDT-FUTURESUSDT  0.006554\n           LTCUSDT-SPOT         0.006304\n           XRPBTC-SPOT          0.010610\n           XRPUSDT-FUTURESUSDT  0.011749\n           XRPUSDT-SPOT         0.011340\n\n[564857 rows x 1 columns]\n"
     ]
    }
   ],
   "source": [
    "# 獲取標籤\n",
    "alpha_df_label = h.fetch(col_set='label')\n",
    "print(alpha_df_label)"
   ]
  },
  {
   "cell_type": "code",
   "execution_count": 6,
   "metadata": {},
   "outputs": [
    {
     "output_type": "stream",
     "name": "stdout",
     "text": [
      "                                    KMID      KLEN     KMID2       KUP  \\\ndatetime   instrument                                                    \n2019-01-01 ADABTC-SPOT         -0.010046  0.012785 -0.785721  0.000913   \n           ADAUSDT-SPOT        -0.014050  0.015775 -0.890625  0.000493   \n           BTCUSDT-SPOT        -0.001899  0.003739 -0.507947  0.000673   \n           ETHBTC-SPOT          0.000197  0.003096  0.063632  0.001126   \n           ETHUSDT-SPOT        -0.001217  0.004032 -0.301886  0.000685   \n...                                  ...       ...       ...       ...   \n2021-01-15 LTCUSDT-FUTURESUSDT  0.007929  0.021427  0.370028  0.008846   \n           LTCUSDT-SPOT         0.007609  0.021514  0.353660  0.008658   \n           XRPBTC-SPOT         -0.006596  0.013193 -0.500000  0.001319   \n           XRPUSDT-FUTURESUSDT  0.001010  0.011789  0.085717  0.006736   \n           XRPUSDT-SPOT         0.000573  0.010321  0.055563  0.006240   \n\n                                    KUP2      KLOW     KLOW2      KSFT  \\\ndatetime   instrument                                                    \n2019-01-01 ADABTC-SPOT          0.071424  0.001826  0.142855 -0.009132   \n           ADAUSDT-SPOT         0.031249  0.001232  0.078126 -0.013310   \n           BTCUSDT-SPOT         0.179911  0.001167  0.312142 -0.001405   \n           ETHBTC-SPOT          0.363658  0.001773  0.572711  0.000844   \n           ETHUSDT-SPOT         0.169815  0.002130  0.528300  0.000228   \n...                                  ...       ...       ...       ...   \n2021-01-15 LTCUSDT-FUTURESUSDT  0.412844  0.004652  0.217127  0.003735   \n           LTCUSDT-SPOT         0.402441  0.005247  0.243900  0.004198   \n           XRPBTC-SPOT          0.100003  0.005277  0.399997 -0.002639   \n           XRPUSDT-FUTURESUSDT  0.571429  0.004042  0.342854 -0.001684   \n           XRPUSDT-SPOT         0.604571  0.003508  0.339867 -0.002159   \n\n                                   KSFT2     OPEN0  ...    VSUMN5   VSUMN10  \\\ndatetime   instrument                               ...                       \n2019-01-01 ADABTC-SPOT         -0.714290  1.010148  ...  0.324928  0.491273   \n           ADAUSDT-SPOT        -0.843749  1.014250  ...  0.215028  0.465240   \n           BTCUSDT-SPOT        -0.375716  1.001903  ...  0.561942  0.502315   \n           ETHBTC-SPOT          0.272685  0.999803  ...  0.601883  0.511415   \n           ETHUSDT-SPOT         0.056599  1.001219  ...  0.519901  0.490043   \n...                                  ...       ...  ...       ...       ...   \n2021-01-15 LTCUSDT-FUTURESUSDT  0.174311  0.992134  ...  0.635303  0.413850   \n           LTCUSDT-SPOT         0.195119  0.992449  ...  0.634347  0.423831   \n           XRPBTC-SPOT         -0.200005  1.006640  ...  0.531911  0.525758   \n           XRPUSDT-FUTURESUSDT -0.142857  0.998991  ...  0.508297  0.453474   \n           XRPUSDT-SPOT        -0.209142  0.999427  ...  0.502856  0.432619   \n\n                                 VSUMN20   VSUMN30   VSUMN60    VSUMD5  \\\ndatetime   instrument                                                    \n2019-01-01 ADABTC-SPOT          0.484397  0.484203  0.490871  0.350145   \n           ADAUSDT-SPOT         0.460781  0.476729  0.499949  0.569944   \n           BTCUSDT-SPOT         0.497662  0.502059  0.499542 -0.123883   \n           ETHBTC-SPOT          0.504420  0.505758  0.504111 -0.203765   \n           ETHUSDT-SPOT         0.498394  0.495686  0.500497 -0.039802   \n...                                  ...       ...       ...       ...   \n2021-01-15 LTCUSDT-FUTURESUSDT  0.559311  0.493166  0.482140 -0.270606   \n           LTCUSDT-SPOT         0.561117  0.497582  0.481531 -0.268694   \n           XRPBTC-SPOT          0.688018  0.501725  0.496293 -0.063822   \n           XRPUSDT-FUTURESUSDT  0.564935  0.512701  0.492316 -0.016594   \n           XRPUSDT-SPOT         0.586336  0.513907  0.490654 -0.005711   \n\n                                 VSUMD10   VSUMD20   VSUMD30   VSUMD60  \ndatetime   instrument                                                   \n2019-01-01 ADABTC-SPOT          0.017455  0.031207  0.031594  0.018258  \n           ADAUSDT-SPOT         0.069519  0.078437  0.046543  0.000103  \n           BTCUSDT-SPOT        -0.004631  0.004676 -0.004118  0.000916  \n           ETHBTC-SPOT         -0.022831 -0.008840 -0.011516 -0.008222  \n           ETHUSDT-SPOT         0.019915  0.003212  0.008629 -0.000994  \n...                                  ...       ...       ...       ...  \n2021-01-15 LTCUSDT-FUTURESUSDT  0.172301 -0.118621  0.013668  0.035721  \n           LTCUSDT-SPOT         0.152339 -0.122234  0.004835  0.036938  \n           XRPBTC-SPOT         -0.051515 -0.376036 -0.003450  0.007413  \n           XRPUSDT-FUTURESUSDT  0.093052 -0.129870 -0.025403  0.015369  \n           XRPUSDT-SPOT         0.134762 -0.172672 -0.027814  0.018692  \n\n[564857 rows x 158 columns]\n"
     ]
    }
   ],
   "source": [
    "# 獲取特徵\n",
    "alpha_df_feature = h.fetch(col_set='feature')\n",
    "print(alpha_df_feature)"
   ]
  },
  {
   "cell_type": "code",
   "execution_count": null,
   "metadata": {},
   "outputs": [],
   "source": []
  }
 ]
}